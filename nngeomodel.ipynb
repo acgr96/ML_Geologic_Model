{
 "cells": [
  {
   "cell_type": "code",
   "execution_count": 1,
   "metadata": {},
   "outputs": [],
   "source": [
    "\n",
    "%matplotlib inline\n",
    "import os\n",
    "import numpy as np\n",
    "import pandas as pd\n",
    "import matplotlib.pyplot as plt\n",
    "import pyvista as pv\n",
    "import vtk\n",
    "import math"
   ]
  },
  {
   "cell_type": "code",
   "execution_count": 2,
   "id": "8c858a6f",
   "metadata": {},
   "outputs": [
    {
     "data": {
      "text/html": [
       "<div>\n",
       "<style scoped>\n",
       "    .dataframe tbody tr th:only-of-type {\n",
       "        vertical-align: middle;\n",
       "    }\n",
       "\n",
       "    .dataframe tbody tr th {\n",
       "        vertical-align: top;\n",
       "    }\n",
       "\n",
       "    .dataframe thead th {\n",
       "        text-align: right;\n",
       "    }\n",
       "</style>\n",
       "<table border=\"1\" class=\"dataframe\">\n",
       "  <thead>\n",
       "    <tr style=\"text-align: right;\">\n",
       "      <th></th>\n",
       "      <th>X</th>\n",
       "      <th>Y</th>\n",
       "      <th>Z</th>\n",
       "    </tr>\n",
       "    <tr>\n",
       "      <th>Borehole</th>\n",
       "      <th></th>\n",
       "      <th></th>\n",
       "      <th></th>\n",
       "    </tr>\n",
       "  </thead>\n",
       "  <tbody>\n",
       "    <tr>\n",
       "      <th>NT-MW20-8</th>\n",
       "      <td>487379.258</td>\n",
       "      <td>5147487.331</td>\n",
       "      <td>298.70</td>\n",
       "    </tr>\n",
       "    <tr>\n",
       "      <th>NT-MW21-10</th>\n",
       "      <td>487396.729</td>\n",
       "      <td>5147463.826</td>\n",
       "      <td>297.29</td>\n",
       "    </tr>\n",
       "    <tr>\n",
       "      <th>NT-MW22-9</th>\n",
       "      <td>487367.603</td>\n",
       "      <td>5147577.135</td>\n",
       "      <td>297.68</td>\n",
       "    </tr>\n",
       "    <tr>\n",
       "      <th>NT-MW23-10</th>\n",
       "      <td>487390.523</td>\n",
       "      <td>5147661.184</td>\n",
       "      <td>297.13</td>\n",
       "    </tr>\n",
       "    <tr>\n",
       "      <th>NT-MW23-3</th>\n",
       "      <td>487391.089</td>\n",
       "      <td>5147658.747</td>\n",
       "      <td>297.13</td>\n",
       "    </tr>\n",
       "  </tbody>\n",
       "</table>\n",
       "</div>"
      ],
      "text/plain": [
       "                     X            Y       Z\n",
       "Borehole                                   \n",
       "NT-MW20-8   487379.258  5147487.331  298.70\n",
       "NT-MW21-10  487396.729  5147463.826  297.29\n",
       "NT-MW22-9   487367.603  5147577.135  297.68\n",
       "NT-MW23-10  487390.523  5147661.184  297.13\n",
       "NT-MW23-3   487391.089  5147658.747  297.13"
      ]
     },
     "execution_count": 2,
     "metadata": {},
     "output_type": "execute_result"
    }
   ],
   "source": [
    "wellLoc = pd.read_csv('VNC_BH_Loc.csv',index_col=0)\n",
    "wellLoc.head()"
   ]
  },
  {
   "cell_type": "code",
   "execution_count": 3,
   "id": "905fd8e2",
   "metadata": {},
   "outputs": [
    {
     "data": {
      "text/html": [
       "<div>\n",
       "<style scoped>\n",
       "    .dataframe tbody tr th:only-of-type {\n",
       "        vertical-align: middle;\n",
       "    }\n",
       "\n",
       "    .dataframe tbody tr th {\n",
       "        vertical-align: top;\n",
       "    }\n",
       "\n",
       "    .dataframe thead th {\n",
       "        text-align: right;\n",
       "    }\n",
       "</style>\n",
       "<table border=\"1\" class=\"dataframe\">\n",
       "  <thead>\n",
       "    <tr style=\"text-align: right;\">\n",
       "      <th></th>\n",
       "      <th>Borehole</th>\n",
       "      <th>X</th>\n",
       "      <th>Y</th>\n",
       "      <th>Z_Top</th>\n",
       "      <th>Z_Bot</th>\n",
       "      <th>Formation</th>\n",
       "      <th>hydrogeoCode</th>\n",
       "    </tr>\n",
       "  </thead>\n",
       "  <tbody>\n",
       "    <tr>\n",
       "      <th>1</th>\n",
       "      <td>NT-MW20-8</td>\n",
       "      <td>487379.258</td>\n",
       "      <td>5147487.331</td>\n",
       "      <td>298.70</td>\n",
       "      <td>298.68</td>\n",
       "      <td>Organics</td>\n",
       "      <td>1</td>\n",
       "    </tr>\n",
       "    <tr>\n",
       "      <th>2</th>\n",
       "      <td>NT-MW20-8</td>\n",
       "      <td>487379.258</td>\n",
       "      <td>5147487.331</td>\n",
       "      <td>298.68</td>\n",
       "      <td>297.86</td>\n",
       "      <td>Sand/Silt/Till1</td>\n",
       "      <td>3</td>\n",
       "    </tr>\n",
       "    <tr>\n",
       "      <th>3</th>\n",
       "      <td>NT-MW20-8</td>\n",
       "      <td>487379.258</td>\n",
       "      <td>5147487.331</td>\n",
       "      <td>297.86</td>\n",
       "      <td>291.44</td>\n",
       "      <td>Bedrock</td>\n",
       "      <td>7</td>\n",
       "    </tr>\n",
       "    <tr>\n",
       "      <th>4</th>\n",
       "      <td>NT-MW21-10</td>\n",
       "      <td>487396.729</td>\n",
       "      <td>5147463.826</td>\n",
       "      <td>297.29</td>\n",
       "      <td>287.51</td>\n",
       "      <td>Bedrock</td>\n",
       "      <td>7</td>\n",
       "    </tr>\n",
       "    <tr>\n",
       "      <th>5</th>\n",
       "      <td>NT-MW22-9</td>\n",
       "      <td>487367.603</td>\n",
       "      <td>5147577.135</td>\n",
       "      <td>297.68</td>\n",
       "      <td>297.58</td>\n",
       "      <td>Organics</td>\n",
       "      <td>1</td>\n",
       "    </tr>\n",
       "  </tbody>\n",
       "</table>\n",
       "</div>"
      ],
      "text/plain": [
       "     Borehole           X            Y   Z_Top   Z_Bot        Formation  \\\n",
       "1   NT-MW20-8  487379.258  5147487.331  298.70  298.68         Organics   \n",
       "2   NT-MW20-8  487379.258  5147487.331  298.68  297.86  Sand/Silt/Till1   \n",
       "3   NT-MW20-8  487379.258  5147487.331  297.86  291.44          Bedrock   \n",
       "4  NT-MW21-10  487396.729  5147463.826  297.29  287.51          Bedrock   \n",
       "5   NT-MW22-9  487367.603  5147577.135  297.68  297.58         Organics   \n",
       "\n",
       "   hydrogeoCode  \n",
       "1             1  \n",
       "2             3  \n",
       "3             7  \n",
       "4             7  \n",
       "5             1  "
      ]
     },
     "execution_count": 3,
     "metadata": {},
     "output_type": "execute_result"
    }
   ],
   "source": [
    "wellLito = pd.read_csv('VNC_BH_Lith.csv',index_col=0)\n",
    "wellLito.head()"
   ]
  },
  {
   "cell_type": "code",
   "execution_count": 4,
   "id": "b59ba7ff",
   "metadata": {},
   "outputs": [
    {
     "data": {
      "text/plain": [
       "array([[4.87379258e+05, 5.14748733e+06, 2.98700000e+02, 1.00000000e+00],\n",
       "       [4.87379258e+05, 5.14748733e+06, 2.98680000e+02, 1.00000000e+00],\n",
       "       [4.87379258e+05, 5.14748733e+06, 2.98680000e+02, 3.00000000e+00],\n",
       "       [4.87379258e+05, 5.14748733e+06, 2.97860000e+02, 3.00000000e+00],\n",
       "       [4.87379258e+05, 5.14748733e+06, 2.97860000e+02, 7.00000000e+00]])"
      ]
     },
     "execution_count": 4,
     "metadata": {},
     "output_type": "execute_result"
    }
   ],
   "source": [
    "litoPoints = []\n",
    "\n",
    "for index, values in wellLito.iterrows():\n",
    "    wellX, wellY, wellZ = wellLoc.loc[values.Borehole][[\"X\",\"Y\",\"Z\"]]\n",
    "    wellXY = [wellX, wellY]\n",
    "    litoPoints.append(wellXY + [values.Z_Top,values.hydrogeoCode])\n",
    "    litoPoints.append(wellXY + [values.Z_Bot,values.hydrogeoCode])\n",
    "    \n",
    "    litoLength = values.Z_Top - values.Z_Bot\n",
    "    if litoLength < 1:\n",
    "        midPoint = wellXY + [values.Z_Top - litoLength/2,values.hydrogeoCode]\n",
    "    else:\n",
    "        npoints = int(litoLength)\n",
    "        for point in range(1,npoints+1):\n",
    "            disPoint = wellXY + [values.Z_Top - litoLength*point/(npoints+1),values.hydrogeoCode]\n",
    "            litoPoints.append(disPoint)\n",
    "litoNp=np.array(litoPoints)\n",
    "np.save(\"litoNp\",litoNp)\n",
    "litoNp[:5]"
   ]
  },
  {
   "cell_type": "code",
   "execution_count": 5,
   "id": "1d13e74f",
   "metadata": {},
   "outputs": [],
   "source": [
    "from sklearn.neural_network import MLPClassifier\n",
    "from sklearn.metrics import confusion_matrix\n",
    "from sklearn import preprocessing"
   ]
  },
  {
   "cell_type": "code",
   "execution_count": 6,
   "id": "c8d8ce13",
   "metadata": {},
   "outputs": [
    {
     "name": "stdout",
     "output_type": "stream",
     "text": [
      "[-1.79384635e-15  7.72163945e-16  1.18888073e-17]\n",
      "[1. 1. 1.]\n"
     ]
    }
   ],
   "source": [
    "litoX, litoY, litoZ = litoNp[:,0], litoNp[:,1], litoNp[:,2]\n",
    "litoMean = litoNp[:,:3].mean(axis=0)\n",
    "litoTrans = litoNp[:,:3]-litoMean\n",
    "litoTrans[:5]\n",
    "\n",
    "#setting up scaler\n",
    "scaler = preprocessing.StandardScaler().fit(litoTrans)\n",
    "litoScale = scaler.transform(litoTrans)\n",
    "\n",
    "#check scaler\n",
    "print(litoScale.mean(axis=0))\n",
    "print(litoScale.std(axis=0))"
   ]
  },
  {
   "cell_type": "code",
   "execution_count": 7,
   "id": "bd3161a0",
   "metadata": {},
   "outputs": [
    {
     "name": "stderr",
     "output_type": "stream",
     "text": [
      "c:\\Users\\acgr9\\miniconda3\\envs\\geomodel\\lib\\site-packages\\sklearn\\neural_network\\_multilayer_perceptron.py:541: ConvergenceWarning: lbfgs failed to converge (status=1):\n",
      "STOP: TOTAL NO. of ITERATIONS REACHED LIMIT.\n",
      "\n",
      "Increase the number of iterations (max_iter) or scale the data as shown in:\n",
      "    https://scikit-learn.org/stable/modules/preprocessing.html\n",
      "  self.n_iter_ = _check_optimize_result(\"lbfgs\", opt_res, self.max_iter)\n"
     ]
    },
    {
     "data": {
      "text/html": [
       "<style>#sk-container-id-1 {color: black;background-color: white;}#sk-container-id-1 pre{padding: 0;}#sk-container-id-1 div.sk-toggleable {background-color: white;}#sk-container-id-1 label.sk-toggleable__label {cursor: pointer;display: block;width: 100%;margin-bottom: 0;padding: 0.3em;box-sizing: border-box;text-align: center;}#sk-container-id-1 label.sk-toggleable__label-arrow:before {content: \"▸\";float: left;margin-right: 0.25em;color: #696969;}#sk-container-id-1 label.sk-toggleable__label-arrow:hover:before {color: black;}#sk-container-id-1 div.sk-estimator:hover label.sk-toggleable__label-arrow:before {color: black;}#sk-container-id-1 div.sk-toggleable__content {max-height: 0;max-width: 0;overflow: hidden;text-align: left;background-color: #f0f8ff;}#sk-container-id-1 div.sk-toggleable__content pre {margin: 0.2em;color: black;border-radius: 0.25em;background-color: #f0f8ff;}#sk-container-id-1 input.sk-toggleable__control:checked~div.sk-toggleable__content {max-height: 200px;max-width: 100%;overflow: auto;}#sk-container-id-1 input.sk-toggleable__control:checked~label.sk-toggleable__label-arrow:before {content: \"▾\";}#sk-container-id-1 div.sk-estimator input.sk-toggleable__control:checked~label.sk-toggleable__label {background-color: #d4ebff;}#sk-container-id-1 div.sk-label input.sk-toggleable__control:checked~label.sk-toggleable__label {background-color: #d4ebff;}#sk-container-id-1 input.sk-hidden--visually {border: 0;clip: rect(1px 1px 1px 1px);clip: rect(1px, 1px, 1px, 1px);height: 1px;margin: -1px;overflow: hidden;padding: 0;position: absolute;width: 1px;}#sk-container-id-1 div.sk-estimator {font-family: monospace;background-color: #f0f8ff;border: 1px dotted black;border-radius: 0.25em;box-sizing: border-box;margin-bottom: 0.5em;}#sk-container-id-1 div.sk-estimator:hover {background-color: #d4ebff;}#sk-container-id-1 div.sk-parallel-item::after {content: \"\";width: 100%;border-bottom: 1px solid gray;flex-grow: 1;}#sk-container-id-1 div.sk-label:hover label.sk-toggleable__label {background-color: #d4ebff;}#sk-container-id-1 div.sk-serial::before {content: \"\";position: absolute;border-left: 1px solid gray;box-sizing: border-box;top: 0;bottom: 0;left: 50%;z-index: 0;}#sk-container-id-1 div.sk-serial {display: flex;flex-direction: column;align-items: center;background-color: white;padding-right: 0.2em;padding-left: 0.2em;position: relative;}#sk-container-id-1 div.sk-item {position: relative;z-index: 1;}#sk-container-id-1 div.sk-parallel {display: flex;align-items: stretch;justify-content: center;background-color: white;position: relative;}#sk-container-id-1 div.sk-item::before, #sk-container-id-1 div.sk-parallel-item::before {content: \"\";position: absolute;border-left: 1px solid gray;box-sizing: border-box;top: 0;bottom: 0;left: 50%;z-index: -1;}#sk-container-id-1 div.sk-parallel-item {display: flex;flex-direction: column;z-index: 1;position: relative;background-color: white;}#sk-container-id-1 div.sk-parallel-item:first-child::after {align-self: flex-end;width: 50%;}#sk-container-id-1 div.sk-parallel-item:last-child::after {align-self: flex-start;width: 50%;}#sk-container-id-1 div.sk-parallel-item:only-child::after {width: 0;}#sk-container-id-1 div.sk-dashed-wrapped {border: 1px dashed gray;margin: 0 0.4em 0.5em 0.4em;box-sizing: border-box;padding-bottom: 0.4em;background-color: white;}#sk-container-id-1 div.sk-label label {font-family: monospace;font-weight: bold;display: inline-block;line-height: 1.2em;}#sk-container-id-1 div.sk-label-container {text-align: center;}#sk-container-id-1 div.sk-container {/* jupyter's `normalize.less` sets `[hidden] { display: none; }` but bootstrap.min.css set `[hidden] { display: none !important; }` so we also need the `!important` here to be able to override the default hidden behavior on the sphinx rendered scikit-learn.org. See: https://github.com/scikit-learn/scikit-learn/issues/21755 */display: inline-block !important;position: relative;}#sk-container-id-1 div.sk-text-repr-fallback {display: none;}</style><div id=\"sk-container-id-1\" class=\"sk-top-container\"><div class=\"sk-text-repr-fallback\"><pre>MLPClassifier(activation=&#x27;tanh&#x27;, hidden_layer_sizes=(30, 30, 30),\n",
       "              max_iter=10000, solver=&#x27;lbfgs&#x27;)</pre><b>In a Jupyter environment, please rerun this cell to show the HTML representation or trust the notebook. <br />On GitHub, the HTML representation is unable to render, please try loading this page with nbviewer.org.</b></div><div class=\"sk-container\" hidden><div class=\"sk-item\"><div class=\"sk-estimator sk-toggleable\"><input class=\"sk-toggleable__control sk-hidden--visually\" id=\"sk-estimator-id-1\" type=\"checkbox\" checked><label for=\"sk-estimator-id-1\" class=\"sk-toggleable__label sk-toggleable__label-arrow\">MLPClassifier</label><div class=\"sk-toggleable__content\"><pre>MLPClassifier(activation=&#x27;tanh&#x27;, hidden_layer_sizes=(30, 30, 30),\n",
       "              max_iter=10000, solver=&#x27;lbfgs&#x27;)</pre></div></div></div></div></div>"
      ],
      "text/plain": [
       "MLPClassifier(activation='tanh', hidden_layer_sizes=(30, 30, 30),\n",
       "              max_iter=10000, solver='lbfgs')"
      ]
     },
     "execution_count": 7,
     "metadata": {},
     "output_type": "execute_result"
    }
   ],
   "source": [
    "#run classifier\n",
    "X = litoScale\n",
    "Y = litoNp[:,3]\n",
    "clf = MLPClassifier(activation='tanh',solver='lbfgs',hidden_layer_sizes=(30,30,30), max_iter=10000)\n",
    "clf.fit(X,Y)"
   ]
  },
  {
   "cell_type": "code",
   "execution_count": 8,
   "id": "115e4a8d",
   "metadata": {},
   "outputs": [
    {
     "name": "stdout",
     "output_type": "stream",
     "text": [
      "[[  43    2   11    2    0    1    6]\n",
      " [   1   48    6    3    0    0    3]\n",
      " [   9    7  136    8    0    2   35]\n",
      " [   1    3   10  146   15    3    7]\n",
      " [   0    0    2   19   57    4   20]\n",
      " [   1    1    3    2    3   47   12]\n",
      " [   2    4   16    9   10    8 1735]]\n"
     ]
    }
   ],
   "source": [
    "numberSamples = litoNp.shape[0]\n",
    "expected=litoNp[:,3]\n",
    "predicted = []\n",
    "for i in range(numberSamples):\n",
    "    predicted.append(clf.predict([litoScale[i]]))\n",
    "results = confusion_matrix(expected,predicted)\n",
    "print(results)"
   ]
  },
  {
   "cell_type": "code",
   "execution_count": 9,
   "id": "a6ed647d",
   "metadata": {},
   "outputs": [],
   "source": [
    "xmin = 487028\n",
    "xmax = 491162\n",
    "ymin = 5144168\n",
    "ymax = 5149592\n",
    "zmax = int(wellLito.Z_Top.max())\n",
    "zmin = zmax - 200"
   ]
  },
  {
   "cell_type": "code",
   "execution_count": 10,
   "id": "4f1e7180",
   "metadata": {},
   "outputs": [],
   "source": [
    "#If index error occurs while constructing lithologic matrix (line 180), try reducing these values to increase grid resolution.\n",
    "#As mentioned above with regards to rounding, higher number of non-zero digits in coordinate values appears to coincide with greater required discretization to avoid index error.\n",
    "\n",
    "cellH = 20\n",
    "cellV = 10"
   ]
  },
  {
   "cell_type": "code",
   "execution_count": 11,
   "id": "7ee6d5c1",
   "metadata": {},
   "outputs": [],
   "source": [
    "vertexCols = np.arange(xmin,xmax+1,cellH)\n",
    "vertexRows = np.arange(ymax,ymin-1,-cellH)\n",
    "vertexLays = np.arange(zmax,zmin-1,-cellV)\n",
    "cellCols = (vertexCols[1:]+vertexCols[:-1])/2\n",
    "cellRows = (vertexRows[1:]+vertexRows[:-1])/2 \n",
    "cellLays = (vertexLays[1:]+vertexLays[:-1])/2\n",
    "nCols = cellCols.shape[0]\n",
    "nRows = cellCols.shape[0]\n",
    "nLays = cellLays.shape[0]"
   ]
  },
  {
   "cell_type": "code",
   "execution_count": 12,
   "id": "173a2b26",
   "metadata": {},
   "outputs": [
    {
     "name": "stdout",
     "output_type": "stream",
     "text": [
      "Processing 0 cells\n",
      "[-1.20295168e+03  4.85808886e+04  2.29843423e+01]\n",
      "[[-1.3802926   0.1046007   1.45609592]]\n",
      "3.0\n",
      "Processing 30000 cells\n",
      "[1.39704832e+03 4.56808886e+04 2.29843423e+01]\n",
      "[[1.60300324 0.09835664 1.45609592]]\n",
      "4.0\n",
      "Processing 60000 cells\n",
      "[-1.22951685e+02  4.68808886e+04  1.29843423e+01]\n",
      "[[-0.1410774   0.10094039  0.82257946]]\n",
      "7.0\n",
      "Processing 90000 cells\n",
      "[2.47704832e+03 4.81008886e+04 2.98434227e+00]\n",
      "[[2.84221844 0.1035672  0.189063  ]]\n",
      "7.0\n",
      "Processing 120000 cells\n",
      "[9.57048315e+02 4.51808886e+04 2.98434227e+00]\n",
      "[[1.09813779 0.09728008 0.189063  ]]\n",
      "7.0\n",
      "Processing 150000 cells\n",
      "[-5.62951685e+02  4.63808886e+04 -7.01565773e+00]\n",
      "[[-0.64594285  0.09986383 -0.44445347]]\n",
      "7.0\n",
      "Processing 180000 cells\n",
      "[ 2.03704832e+03  4.76008886e+04 -1.70156577e+01]\n",
      "[[ 2.33735299  0.10249064 -1.07796993]]\n",
      "7.0\n",
      "Processing 210000 cells\n",
      "[ 5.17048315e+02  4.46808886e+04 -1.70156577e+01]\n",
      "[[ 0.59327234  0.09620352 -1.07796993]]\n",
      "7.0\n",
      "Processing 240000 cells\n",
      "[-1.00295168e+03  4.58808886e+04 -2.70156577e+01]\n",
      "[[-1.1508083   0.09878727 -1.7114864 ]]\n",
      "7.0\n",
      "Processing 270000 cells\n",
      "[ 1.59704832e+03  4.71008886e+04 -3.70156577e+01]\n",
      "[[ 1.83248754  0.10141408 -2.34500286]]\n",
      "7.0\n",
      "Processing 300000 cells\n",
      "[ 7.70483151e+01  4.83008886e+04 -4.70156577e+01]\n",
      "[[ 0.08840689  0.10399783 -2.97851933]]\n",
      "7.0\n",
      "Processing 330000 cells\n",
      "[ 2677.04831506 45400.88859555   -47.01565773]\n",
      "[[ 3.07170273  0.09775377 -2.97851933]]\n",
      "7.0\n",
      "Processing 360000 cells\n",
      "[ 1157.04831506 46600.88859555   -57.01565773]\n",
      "[[ 1.32762209  0.10033752 -3.61203579]]\n",
      "7.0\n",
      "Processing 390000 cells\n",
      "[ -362.95168494 47800.88859555   -67.01565773]\n",
      "[[-0.41645856  0.10292127 -4.24555225]]\n",
      "7.0\n",
      "Processing 420000 cells\n",
      "[ 2237.04831506 44900.88859555   -67.01565773]\n",
      "[[ 2.56683728  0.09667721 -4.24555225]]\n",
      "7.0\n",
      "Processing 450000 cells\n",
      "[  717.04831506 46100.88859555   -77.01565773]\n",
      "[[ 0.82275664  0.09926095 -4.87906872]]\n",
      "7.0\n",
      "Processing 480000 cells\n",
      "[ -802.95168494 47300.88859555   -87.01565773]\n",
      "[[-0.92132401  0.1018447  -5.51258518]]\n",
      "7.0\n",
      "Processing 510000 cells\n",
      "[ 1797.04831506 48520.88859555   -97.01565773]\n",
      "[[ 2.06197183  0.10447152 -6.14610165]]\n",
      "7.0\n",
      "Processing 540000 cells\n",
      "[  277.04831506 45600.88859555   -97.01565773]\n",
      "[[ 0.31789119  0.09818439 -6.14610165]]\n",
      "7.0\n",
      "Processing 570000 cells\n",
      "[ 2877.04831506 46820.88859555  -107.01565773]\n",
      "[[ 3.30118703  0.1008112  -6.77961811]]\n",
      "7.0\n",
      "Processing 600000 cells\n",
      "[ 1357.04831506 48020.88859555  -117.01565773]\n",
      "[[ 1.55710638  0.10339495 -7.41313458]]\n",
      "7.0\n",
      "Processing 630000 cells\n",
      "[ -162.95168494 45100.88859555  -117.01565773]\n",
      "[[-0.18697426  0.09710783 -7.41313458]]\n",
      "7.0\n",
      "Processing 660000 cells\n",
      "[ 2437.04831506 46320.88859555  -127.01565773]\n",
      "[[ 2.79632158  0.09973464 -8.04665104]]\n",
      "7.0\n",
      "Processing 690000 cells\n",
      "[  917.04831506 47520.88859555  -137.01565773]\n",
      "[[ 1.05224093  0.10231839 -8.68016751]]\n",
      "7.0\n",
      "Processing 720000 cells\n",
      "[ -602.95168494 44600.88859555  -137.01565773]\n",
      "[[-0.69183971  0.09603127 -8.68016751]]\n",
      "7.0\n",
      "Processing 750000 cells\n",
      "[ 1997.04831506 45820.88859555  -147.01565773]\n",
      "[[ 2.29145613  0.09865808 -9.31368397]]\n",
      "7.0\n",
      "Processing 780000 cells\n",
      "[  477.04831506 47020.88859555  -157.01565773]\n",
      "[[ 0.54737548  0.10124183 -9.94720043]]\n",
      "7.0\n",
      "Processing 810000 cells\n",
      "[-1042.95168494 48220.88859555  -167.01565773]\n",
      "[[ -1.19670516   0.10382558 -10.5807169 ]]\n",
      "7.0\n",
      "Processing 840000 cells\n",
      "[ 1557.04831506 45320.88859555  -167.01565773]\n",
      "[[  1.78659068   0.09758152 -10.5807169 ]]\n",
      "7.0\n"
     ]
    }
   ],
   "source": [
    "i=0\n",
    "litoMatrix=np.zeros([nLays,nRows,nCols])\n",
    "for lay in range(nLays):\n",
    "    for row in range(nRows):\n",
    "        for col in range(nCols):\n",
    "            cellXYZ = [cellCols[col],cellRows[row],cellLays[lay]]\n",
    "            cellTrans = cellXYZ - litoMean\n",
    "            cellNorm = scaler.transform([cellTrans])\n",
    "            \n",
    "            litoMatrix[lay,row,col] = clf.predict(cellNorm)\n",
    "            \n",
    "            if i%30000==0:\n",
    "                print(\"Processing %s cells\"%i)\n",
    "                print(cellTrans)\n",
    "                print(cellNorm)\n",
    "                print(litoMatrix[lay,row,col])\n",
    "            i+=1"
   ]
  },
  {
   "cell_type": "code",
   "execution_count": 13,
   "id": "97632777",
   "metadata": {},
   "outputs": [
    {
     "data": {
      "text/plain": [
       "<matplotlib.image.AxesImage at 0x13603d30b50>"
      ]
     },
     "execution_count": 13,
     "metadata": {},
     "output_type": "execute_result"
    },
    {
     "data": {
      "image/png": "[encoded data removed]",
      "text/plain": [
       "<Figure size 640x480 with 1 Axes>"
      ]
     },
     "metadata": {},
     "output_type": "display_data"
    }
   ],
   "source": [
    "plt.imshow(litoMatrix[0])"
   ]
  },
  {
   "cell_type": "code",
   "execution_count": 14,
   "id": "dbea8fc7",
   "metadata": {},
   "outputs": [
    {
     "data": {
      "text/plain": [
       "<matplotlib.image.AxesImage at 0x13603d6ff10>"
      ]
     },
     "execution_count": 14,
     "metadata": {},
     "output_type": "execute_result"
    },
    {
     "data": {
      "image/png": "[encoded data removed]",
      "text/plain": [
       "<Figure size 640x480 with 1 Axes>"
      ]
     },
     "metadata": {},
     "output_type": "display_data"
    }
   ],
   "source": [
    "plt.imshow(litoMatrix[:,20])"
   ]
  },
  {
   "cell_type": "code",
   "execution_count": 15,
   "id": "b20fdabe",
   "metadata": {},
   "outputs": [],
   "source": [
    "np.save('litoMatrix',litoMatrix)"
   ]
  },
  {
   "cell_type": "code",
   "execution_count": 16,
   "id": "68ffe97d",
   "metadata": {},
   "outputs": [
    {
     "data": {
      "text/plain": [
       "<matplotlib.image.AxesImage at 0x13603de64f0>"
      ]
     },
     "execution_count": 16,
     "metadata": {},
     "output_type": "execute_result"
    },
    {
     "data": {
      "image/png": "[encoded data removed]",
      "text/plain": [
       "<Figure size 640x480 with 1 Axes>"
      ]
     },
     "metadata": {},
     "output_type": "display_data"
    }
   ],
   "source": [
    "#matrix modification for Vtk representation\n",
    "litoMatrixMod = litoMatrix[:,:,::-1]\n",
    "np.save('litoMatrixMod',litoMatrixMod)\n",
    "plt.imshow(litoMatrixMod[0])"
   ]
  },
  {
   "cell_type": "code",
   "execution_count": 17,
   "id": "e38a3ae0",
   "metadata": {},
   "outputs": [],
   "source": [
    "# Create empty grid\n",
    "grid = pv.RectilinearGrid()"
   ]
  },
  {
   "cell_type": "code",
   "execution_count": 18,
   "id": "26273575",
   "metadata": {},
   "outputs": [],
   "source": [
    "# Initialize from a vtk.vtkRectilinearGrid object\n",
    "vtkgrid = vtk.vtkRectilinearGrid()\n",
    "grid = pv.RectilinearGrid(vtkgrid)\n",
    "grid = pv.RectilinearGrid(vertexCols,vertexRows,vertexLays)"
   ]
  },
  {
   "cell_type": "code",
   "execution_count": 20,
   "id": "4b35a25d",
   "metadata": {},
   "outputs": [],
   "source": [
    "#litoFlat = list(litoMatrixMod.flatten(order=\"K\"))[::-1]\n",
    "#grid.cell_arrays[\"hydrogeoCode\"] = np.array(litoFlat)\n",
    "#grid.save('hydrogeologicalUnit.vtk')"
   ]
  }
 ],
 "metadata": {
  "kernelspec": {
   "display_name": "geomodel",
   "language": "python",
   "name": "python3"
  },
  "language_info": {
   "codemirror_mode": {
    "name": "ipython",
    "version": 3
   },
   "file_extension": ".py",
   "mimetype": "text/x-python",
   "name": "python",
   "nbconvert_exporter": "python",
   "pygments_lexer": "ipython3",
   "version": "3.9.16"
  },
  "vscode": {
   "interpreter": {
    "hash": "190652aa768d82b5f6655e3b7feba962bdb4420f6a8c855b97ab2c7b22f39a6f"
   }
  }
 },
 "nbformat": 4,
 "nbformat_minor": 5
}
