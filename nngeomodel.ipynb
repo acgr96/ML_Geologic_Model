{
 "cells": [
  {
   "cell_type": "code",
   "execution_count": null,
   "metadata": {},
   "outputs": [],
   "source": [
    "\n",
    "%matplotlib inline\n",
    "import os\n",
    "import numpy as np\n",
    "import pandas as pd\n",
    "import matplotlib.pyplot as plt\n",
    "import pyvista as pv\n",
    "import vtk\n",
    "import math"
   ]
  },
  {
   "cell_type": "code",
   "execution_count": null,
   "id": "8c858a6f",
   "metadata": {},
   "outputs": [],
   "source": [
    "wellLoc = pd.read_csv('VNC_BH_Loc.csv',index_col=0)\n",
    "wellLoc.head()"
   ]
  },
  {
   "cell_type": "code",
   "execution_count": null,
   "id": "905fd8e2",
   "metadata": {},
   "outputs": [],
   "source": [
    "wellLito = pd.read_csv('VNC_BH_Lith.csv',index_col=0)\n",
    "wellLito.head()"
   ]
  },
  {
   "cell_type": "code",
   "execution_count": null,
   "id": "b59ba7ff",
   "metadata": {},
   "outputs": [],
   "source": [
    "litoPoints = []\n",
    "\n",
    "for index, values in wellLito.iterrows():\n",
    "    wellX, wellY, wellZ = wellLoc.loc[values.Borehole][[\"X\",\"Y\",\"Z\"]]\n",
    "    wellXY = [wellX, wellY]\n",
    "    litoPoints.append(wellXY + [values.Z_Top,values.hydrogeoCode])\n",
    "    litoPoints.append(wellXY + [values.Z_Bot,values.hydrogeoCode])\n",
    "    \n",
    "    litoLength = values.Z_Top - values.Z_Bot\n",
    "    if litoLength < 1:\n",
    "        midPoint = wellXY + [values.Z_Top - litoLength/2,values.hydrogeoCode]\n",
    "    else:\n",
    "        npoints = int(litoLength)\n",
    "        for point in range(1,npoints+1):\n",
    "            disPoint = wellXY + [values.Z_Top - litoLength*point/(npoints+1),values.hydrogeoCode]\n",
    "            litoPoints.append(disPoint)\n",
    "litoNp=np.array(litoPoints)\n",
    "np.save(\"litoNp\",litoNp)\n",
    "litoNp[:5]"
   ]
  },
  {
   "cell_type": "code",
   "execution_count": null,
   "id": "1d13e74f",
   "metadata": {},
   "outputs": [],
   "source": [
    "from sklearn.neural_network import MLPClassifier\n",
    "from sklearn.metrics import confusion_matrix\n",
    "from sklearn import preprocessing"
   ]
  },
  {
   "cell_type": "code",
   "execution_count": null,
   "id": "c8d8ce13",
   "metadata": {},
   "outputs": [],
   "source": [
    "litoX, litoY, litoZ = litoNp[:,0], litoNp[:,1], litoNp[:,2]\n",
    "litoMean = litoNp[:,:3].mean(axis=0)\n",
    "litoTrans = litoNp[:,:3]-litoMean\n",
    "litoTrans[:5]\n",
    "\n",
    "#setting up scaler\n",
    "scaler = preprocessing.StandardScaler().fit(litoTrans)\n",
    "litoScale = scaler.transform(litoTrans)\n",
    "\n",
    "#check scaler\n",
    "print(litoScale.mean(axis=0))\n",
    "print(litoScale.std(axis=0))"
   ]
  },
  {
   "cell_type": "code",
   "execution_count": 70,
   "id": "bd3161a0",
   "metadata": {},
   "outputs": [
    {
     "ename": "KeyboardInterrupt",
     "evalue": "",
     "output_type": "error",
     "traceback": [
      "\u001b[1;31m---------------------------------------------------------------------------\u001b[0m",
      "\u001b[1;31mKeyboardInterrupt\u001b[0m                         Traceback (most recent call last)",
      "Cell \u001b[1;32mIn[70], line 5\u001b[0m\n\u001b[0;32m      3\u001b[0m Y \u001b[39m=\u001b[39m litoNp[:,\u001b[39m3\u001b[39m]\n\u001b[0;32m      4\u001b[0m clf \u001b[39m=\u001b[39m MLPClassifier(activation\u001b[39m=\u001b[39m\u001b[39m'\u001b[39m\u001b[39mtanh\u001b[39m\u001b[39m'\u001b[39m,solver\u001b[39m=\u001b[39m\u001b[39m'\u001b[39m\u001b[39mlbfgs\u001b[39m\u001b[39m'\u001b[39m,hidden_layer_sizes\u001b[39m=\u001b[39m(\u001b[39m30\u001b[39m,\u001b[39m30\u001b[39m,\u001b[39m30\u001b[39m), max_iter\u001b[39m=\u001b[39m\u001b[39m10000\u001b[39m)\n\u001b[1;32m----> 5\u001b[0m clf\u001b[39m.\u001b[39;49mfit(X,Y)\n",
      "File \u001b[1;32mc:\\Users\\acgr9\\miniconda3\\envs\\geomodel\\lib\\site-packages\\sklearn\\neural_network\\_multilayer_perceptron.py:747\u001b[0m, in \u001b[0;36mBaseMultilayerPerceptron.fit\u001b[1;34m(self, X, y)\u001b[0m\n\u001b[0;32m    729\u001b[0m \u001b[39m\u001b[39m\u001b[39m\"\"\"Fit the model to data matrix X and target(s) y.\u001b[39;00m\n\u001b[0;32m    730\u001b[0m \n\u001b[0;32m    731\u001b[0m \u001b[39mParameters\u001b[39;00m\n\u001b[1;32m   (...)\u001b[0m\n\u001b[0;32m    743\u001b[0m \u001b[39m    Returns a trained MLP model.\u001b[39;00m\n\u001b[0;32m    744\u001b[0m \u001b[39m\"\"\"\u001b[39;00m\n\u001b[0;32m    745\u001b[0m \u001b[39mself\u001b[39m\u001b[39m.\u001b[39m_validate_params()\n\u001b[1;32m--> 747\u001b[0m \u001b[39mreturn\u001b[39;00m \u001b[39mself\u001b[39;49m\u001b[39m.\u001b[39;49m_fit(X, y, incremental\u001b[39m=\u001b[39;49m\u001b[39mFalse\u001b[39;49;00m)\n",
      "File \u001b[1;32mc:\\Users\\acgr9\\miniconda3\\envs\\geomodel\\lib\\site-packages\\sklearn\\neural_network\\_multilayer_perceptron.py:484\u001b[0m, in \u001b[0;36mBaseMultilayerPerceptron._fit\u001b[1;34m(self, X, y, incremental)\u001b[0m\n\u001b[0;32m    482\u001b[0m \u001b[39m# Run the LBFGS solver\u001b[39;00m\n\u001b[0;32m    483\u001b[0m \u001b[39melif\u001b[39;00m \u001b[39mself\u001b[39m\u001b[39m.\u001b[39msolver \u001b[39m==\u001b[39m \u001b[39m\"\u001b[39m\u001b[39mlbfgs\u001b[39m\u001b[39m\"\u001b[39m:\n\u001b[1;32m--> 484\u001b[0m     \u001b[39mself\u001b[39;49m\u001b[39m.\u001b[39;49m_fit_lbfgs(\n\u001b[0;32m    485\u001b[0m         X, y, activations, deltas, coef_grads, intercept_grads, layer_units\n\u001b[0;32m    486\u001b[0m     )\n\u001b[0;32m    488\u001b[0m \u001b[39m# validate parameter weights\u001b[39;00m\n\u001b[0;32m    489\u001b[0m weights \u001b[39m=\u001b[39m chain(\u001b[39mself\u001b[39m\u001b[39m.\u001b[39mcoefs_, \u001b[39mself\u001b[39m\u001b[39m.\u001b[39mintercepts_)\n",
      "File \u001b[1;32mc:\\Users\\acgr9\\miniconda3\\envs\\geomodel\\lib\\site-packages\\sklearn\\neural_network\\_multilayer_perceptron.py:528\u001b[0m, in \u001b[0;36mBaseMultilayerPerceptron._fit_lbfgs\u001b[1;34m(self, X, y, activations, deltas, coef_grads, intercept_grads, layer_units)\u001b[0m\n\u001b[0;32m    525\u001b[0m \u001b[39melse\u001b[39;00m:\n\u001b[0;32m    526\u001b[0m     iprint \u001b[39m=\u001b[39m \u001b[39m-\u001b[39m\u001b[39m1\u001b[39m\n\u001b[1;32m--> 528\u001b[0m opt_res \u001b[39m=\u001b[39m scipy\u001b[39m.\u001b[39;49moptimize\u001b[39m.\u001b[39;49mminimize(\n\u001b[0;32m    529\u001b[0m     \u001b[39mself\u001b[39;49m\u001b[39m.\u001b[39;49m_loss_grad_lbfgs,\n\u001b[0;32m    530\u001b[0m     packed_coef_inter,\n\u001b[0;32m    531\u001b[0m     method\u001b[39m=\u001b[39;49m\u001b[39m\"\u001b[39;49m\u001b[39mL-BFGS-B\u001b[39;49m\u001b[39m\"\u001b[39;49m,\n\u001b[0;32m    532\u001b[0m     jac\u001b[39m=\u001b[39;49m\u001b[39mTrue\u001b[39;49;00m,\n\u001b[0;32m    533\u001b[0m     options\u001b[39m=\u001b[39;49m{\n\u001b[0;32m    534\u001b[0m         \u001b[39m\"\u001b[39;49m\u001b[39mmaxfun\u001b[39;49m\u001b[39m\"\u001b[39;49m: \u001b[39mself\u001b[39;49m\u001b[39m.\u001b[39;49mmax_fun,\n\u001b[0;32m    535\u001b[0m         \u001b[39m\"\u001b[39;49m\u001b[39mmaxiter\u001b[39;49m\u001b[39m\"\u001b[39;49m: \u001b[39mself\u001b[39;49m\u001b[39m.\u001b[39;49mmax_iter,\n\u001b[0;32m    536\u001b[0m         \u001b[39m\"\u001b[39;49m\u001b[39miprint\u001b[39;49m\u001b[39m\"\u001b[39;49m: iprint,\n\u001b[0;32m    537\u001b[0m         \u001b[39m\"\u001b[39;49m\u001b[39mgtol\u001b[39;49m\u001b[39m\"\u001b[39;49m: \u001b[39mself\u001b[39;49m\u001b[39m.\u001b[39;49mtol,\n\u001b[0;32m    538\u001b[0m     },\n\u001b[0;32m    539\u001b[0m     args\u001b[39m=\u001b[39;49m(X, y, activations, deltas, coef_grads, intercept_grads),\n\u001b[0;32m    540\u001b[0m )\n\u001b[0;32m    541\u001b[0m \u001b[39mself\u001b[39m\u001b[39m.\u001b[39mn_iter_ \u001b[39m=\u001b[39m _check_optimize_result(\u001b[39m\"\u001b[39m\u001b[39mlbfgs\u001b[39m\u001b[39m\"\u001b[39m, opt_res, \u001b[39mself\u001b[39m\u001b[39m.\u001b[39mmax_iter)\n\u001b[0;32m    542\u001b[0m \u001b[39mself\u001b[39m\u001b[39m.\u001b[39mloss_ \u001b[39m=\u001b[39m opt_res\u001b[39m.\u001b[39mfun\n",
      "File \u001b[1;32mc:\\Users\\acgr9\\miniconda3\\envs\\geomodel\\lib\\site-packages\\scipy\\optimize\\_minimize.py:696\u001b[0m, in \u001b[0;36mminimize\u001b[1;34m(fun, x0, args, method, jac, hess, hessp, bounds, constraints, tol, callback, options)\u001b[0m\n\u001b[0;32m    693\u001b[0m     res \u001b[39m=\u001b[39m _minimize_newtoncg(fun, x0, args, jac, hess, hessp, callback,\n\u001b[0;32m    694\u001b[0m                              \u001b[39m*\u001b[39m\u001b[39m*\u001b[39moptions)\n\u001b[0;32m    695\u001b[0m \u001b[39melif\u001b[39;00m meth \u001b[39m==\u001b[39m \u001b[39m'\u001b[39m\u001b[39ml-bfgs-b\u001b[39m\u001b[39m'\u001b[39m:\n\u001b[1;32m--> 696\u001b[0m     res \u001b[39m=\u001b[39m _minimize_lbfgsb(fun, x0, args, jac, bounds,\n\u001b[0;32m    697\u001b[0m                            callback\u001b[39m=\u001b[39mcallback, \u001b[39m*\u001b[39m\u001b[39m*\u001b[39moptions)\n\u001b[0;32m    698\u001b[0m \u001b[39melif\u001b[39;00m meth \u001b[39m==\u001b[39m \u001b[39m'\u001b[39m\u001b[39mtnc\u001b[39m\u001b[39m'\u001b[39m:\n\u001b[0;32m    699\u001b[0m     res \u001b[39m=\u001b[39m _minimize_tnc(fun, x0, args, jac, bounds, callback\u001b[39m=\u001b[39mcallback,\n\u001b[0;32m    700\u001b[0m                         \u001b[39m*\u001b[39m\u001b[39m*\u001b[39moptions)\n",
      "File \u001b[1;32mc:\\Users\\acgr9\\miniconda3\\envs\\geomodel\\lib\\site-packages\\scipy\\optimize\\_lbfgsb_py.py:359\u001b[0m, in \u001b[0;36m_minimize_lbfgsb\u001b[1;34m(fun, x0, args, jac, bounds, disp, maxcor, ftol, gtol, eps, maxfun, maxiter, iprint, callback, maxls, finite_diff_rel_step, **unknown_options)\u001b[0m\n\u001b[0;32m    353\u001b[0m task_str \u001b[39m=\u001b[39m task\u001b[39m.\u001b[39mtobytes()\n\u001b[0;32m    354\u001b[0m \u001b[39mif\u001b[39;00m task_str\u001b[39m.\u001b[39mstartswith(\u001b[39mb\u001b[39m\u001b[39m'\u001b[39m\u001b[39mFG\u001b[39m\u001b[39m'\u001b[39m):\n\u001b[0;32m    355\u001b[0m     \u001b[39m# The minimization routine wants f and g at the current x.\u001b[39;00m\n\u001b[0;32m    356\u001b[0m     \u001b[39m# Note that interruptions due to maxfun are postponed\u001b[39;00m\n\u001b[0;32m    357\u001b[0m     \u001b[39m# until the completion of the current minimization iteration.\u001b[39;00m\n\u001b[0;32m    358\u001b[0m     \u001b[39m# Overwrite f and g:\u001b[39;00m\n\u001b[1;32m--> 359\u001b[0m     f, g \u001b[39m=\u001b[39m func_and_grad(x)\n\u001b[0;32m    360\u001b[0m \u001b[39melif\u001b[39;00m task_str\u001b[39m.\u001b[39mstartswith(\u001b[39mb\u001b[39m\u001b[39m'\u001b[39m\u001b[39mNEW_X\u001b[39m\u001b[39m'\u001b[39m):\n\u001b[0;32m    361\u001b[0m     \u001b[39m# new iteration\u001b[39;00m\n\u001b[0;32m    362\u001b[0m     n_iterations \u001b[39m+\u001b[39m\u001b[39m=\u001b[39m \u001b[39m1\u001b[39m\n",
      "File \u001b[1;32mc:\\Users\\acgr9\\miniconda3\\envs\\geomodel\\lib\\site-packages\\scipy\\optimize\\_differentiable_functions.py:285\u001b[0m, in \u001b[0;36mScalarFunction.fun_and_grad\u001b[1;34m(self, x)\u001b[0m\n\u001b[0;32m    283\u001b[0m \u001b[39mif\u001b[39;00m \u001b[39mnot\u001b[39;00m np\u001b[39m.\u001b[39marray_equal(x, \u001b[39mself\u001b[39m\u001b[39m.\u001b[39mx):\n\u001b[0;32m    284\u001b[0m     \u001b[39mself\u001b[39m\u001b[39m.\u001b[39m_update_x_impl(x)\n\u001b[1;32m--> 285\u001b[0m \u001b[39mself\u001b[39;49m\u001b[39m.\u001b[39;49m_update_fun()\n\u001b[0;32m    286\u001b[0m \u001b[39mself\u001b[39m\u001b[39m.\u001b[39m_update_grad()\n\u001b[0;32m    287\u001b[0m \u001b[39mreturn\u001b[39;00m \u001b[39mself\u001b[39m\u001b[39m.\u001b[39mf, \u001b[39mself\u001b[39m\u001b[39m.\u001b[39mg\n",
      "File \u001b[1;32mc:\\Users\\acgr9\\miniconda3\\envs\\geomodel\\lib\\site-packages\\scipy\\optimize\\_differentiable_functions.py:251\u001b[0m, in \u001b[0;36mScalarFunction._update_fun\u001b[1;34m(self)\u001b[0m\n\u001b[0;32m    249\u001b[0m \u001b[39mdef\u001b[39;00m \u001b[39m_update_fun\u001b[39m(\u001b[39mself\u001b[39m):\n\u001b[0;32m    250\u001b[0m     \u001b[39mif\u001b[39;00m \u001b[39mnot\u001b[39;00m \u001b[39mself\u001b[39m\u001b[39m.\u001b[39mf_updated:\n\u001b[1;32m--> 251\u001b[0m         \u001b[39mself\u001b[39;49m\u001b[39m.\u001b[39;49m_update_fun_impl()\n\u001b[0;32m    252\u001b[0m         \u001b[39mself\u001b[39m\u001b[39m.\u001b[39mf_updated \u001b[39m=\u001b[39m \u001b[39mTrue\u001b[39;00m\n",
      "File \u001b[1;32mc:\\Users\\acgr9\\miniconda3\\envs\\geomodel\\lib\\site-packages\\scipy\\optimize\\_differentiable_functions.py:155\u001b[0m, in \u001b[0;36mScalarFunction.__init__.<locals>.update_fun\u001b[1;34m()\u001b[0m\n\u001b[0;32m    154\u001b[0m \u001b[39mdef\u001b[39;00m \u001b[39mupdate_fun\u001b[39m():\n\u001b[1;32m--> 155\u001b[0m     \u001b[39mself\u001b[39m\u001b[39m.\u001b[39mf \u001b[39m=\u001b[39m fun_wrapped(\u001b[39mself\u001b[39;49m\u001b[39m.\u001b[39;49mx)\n",
      "File \u001b[1;32mc:\\Users\\acgr9\\miniconda3\\envs\\geomodel\\lib\\site-packages\\scipy\\optimize\\_differentiable_functions.py:137\u001b[0m, in \u001b[0;36mScalarFunction.__init__.<locals>.fun_wrapped\u001b[1;34m(x)\u001b[0m\n\u001b[0;32m    133\u001b[0m \u001b[39mself\u001b[39m\u001b[39m.\u001b[39mnfev \u001b[39m+\u001b[39m\u001b[39m=\u001b[39m \u001b[39m1\u001b[39m\n\u001b[0;32m    134\u001b[0m \u001b[39m# Send a copy because the user may overwrite it.\u001b[39;00m\n\u001b[0;32m    135\u001b[0m \u001b[39m# Overwriting results in undefined behaviour because\u001b[39;00m\n\u001b[0;32m    136\u001b[0m \u001b[39m# fun(self.x) will change self.x, with the two no longer linked.\u001b[39;00m\n\u001b[1;32m--> 137\u001b[0m fx \u001b[39m=\u001b[39m fun(np\u001b[39m.\u001b[39;49mcopy(x), \u001b[39m*\u001b[39;49margs)\n\u001b[0;32m    138\u001b[0m \u001b[39m# Make sure the function returns a true scalar\u001b[39;00m\n\u001b[0;32m    139\u001b[0m \u001b[39mif\u001b[39;00m \u001b[39mnot\u001b[39;00m np\u001b[39m.\u001b[39misscalar(fx):\n",
      "File \u001b[1;32mc:\\Users\\acgr9\\miniconda3\\envs\\geomodel\\lib\\site-packages\\scipy\\optimize\\_optimize.py:76\u001b[0m, in \u001b[0;36mMemoizeJac.__call__\u001b[1;34m(self, x, *args)\u001b[0m\n\u001b[0;32m     74\u001b[0m \u001b[39mdef\u001b[39;00m \u001b[39m__call__\u001b[39m(\u001b[39mself\u001b[39m, x, \u001b[39m*\u001b[39margs):\n\u001b[0;32m     75\u001b[0m \u001b[39m    \u001b[39m\u001b[39m\"\"\" returns the function value \"\"\"\u001b[39;00m\n\u001b[1;32m---> 76\u001b[0m     \u001b[39mself\u001b[39;49m\u001b[39m.\u001b[39;49m_compute_if_needed(x, \u001b[39m*\u001b[39;49margs)\n\u001b[0;32m     77\u001b[0m     \u001b[39mreturn\u001b[39;00m \u001b[39mself\u001b[39m\u001b[39m.\u001b[39m_value\n",
      "File \u001b[1;32mc:\\Users\\acgr9\\miniconda3\\envs\\geomodel\\lib\\site-packages\\scipy\\optimize\\_optimize.py:70\u001b[0m, in \u001b[0;36mMemoizeJac._compute_if_needed\u001b[1;34m(self, x, *args)\u001b[0m\n\u001b[0;32m     68\u001b[0m \u001b[39mif\u001b[39;00m \u001b[39mnot\u001b[39;00m np\u001b[39m.\u001b[39mall(x \u001b[39m==\u001b[39m \u001b[39mself\u001b[39m\u001b[39m.\u001b[39mx) \u001b[39mor\u001b[39;00m \u001b[39mself\u001b[39m\u001b[39m.\u001b[39m_value \u001b[39mis\u001b[39;00m \u001b[39mNone\u001b[39;00m \u001b[39mor\u001b[39;00m \u001b[39mself\u001b[39m\u001b[39m.\u001b[39mjac \u001b[39mis\u001b[39;00m \u001b[39mNone\u001b[39;00m:\n\u001b[0;32m     69\u001b[0m     \u001b[39mself\u001b[39m\u001b[39m.\u001b[39mx \u001b[39m=\u001b[39m np\u001b[39m.\u001b[39masarray(x)\u001b[39m.\u001b[39mcopy()\n\u001b[1;32m---> 70\u001b[0m     fg \u001b[39m=\u001b[39m \u001b[39mself\u001b[39;49m\u001b[39m.\u001b[39;49mfun(x, \u001b[39m*\u001b[39;49margs)\n\u001b[0;32m     71\u001b[0m     \u001b[39mself\u001b[39m\u001b[39m.\u001b[39mjac \u001b[39m=\u001b[39m fg[\u001b[39m1\u001b[39m]\n\u001b[0;32m     72\u001b[0m     \u001b[39mself\u001b[39m\u001b[39m.\u001b[39m_value \u001b[39m=\u001b[39m fg[\u001b[39m0\u001b[39m]\n",
      "File \u001b[1;32mc:\\Users\\acgr9\\miniconda3\\envs\\geomodel\\lib\\site-packages\\sklearn\\neural_network\\_multilayer_perceptron.py:277\u001b[0m, in \u001b[0;36mBaseMultilayerPerceptron._loss_grad_lbfgs\u001b[1;34m(self, packed_coef_inter, X, y, activations, deltas, coef_grads, intercept_grads)\u001b[0m\n\u001b[0;32m    236\u001b[0m \u001b[39m\u001b[39m\u001b[39m\"\"\"Compute the MLP loss function and its corresponding derivatives\u001b[39;00m\n\u001b[0;32m    237\u001b[0m \u001b[39mwith respect to the different parameters given in the initialization.\u001b[39;00m\n\u001b[0;32m    238\u001b[0m \n\u001b[1;32m   (...)\u001b[0m\n\u001b[0;32m    274\u001b[0m \u001b[39mgrad : array-like, shape (number of nodes of all layers,)\u001b[39;00m\n\u001b[0;32m    275\u001b[0m \u001b[39m\"\"\"\u001b[39;00m\n\u001b[0;32m    276\u001b[0m \u001b[39mself\u001b[39m\u001b[39m.\u001b[39m_unpack(packed_coef_inter)\n\u001b[1;32m--> 277\u001b[0m loss, coef_grads, intercept_grads \u001b[39m=\u001b[39m \u001b[39mself\u001b[39;49m\u001b[39m.\u001b[39;49m_backprop(\n\u001b[0;32m    278\u001b[0m     X, y, activations, deltas, coef_grads, intercept_grads\n\u001b[0;32m    279\u001b[0m )\n\u001b[0;32m    280\u001b[0m grad \u001b[39m=\u001b[39m _pack(coef_grads, intercept_grads)\n\u001b[0;32m    281\u001b[0m \u001b[39mreturn\u001b[39;00m loss, grad\n",
      "File \u001b[1;32mc:\\Users\\acgr9\\miniconda3\\envs\\geomodel\\lib\\site-packages\\sklearn\\neural_network\\_multilayer_perceptron.py:322\u001b[0m, in \u001b[0;36mBaseMultilayerPerceptron._backprop\u001b[1;34m(self, X, y, activations, deltas, coef_grads, intercept_grads)\u001b[0m\n\u001b[0;32m    319\u001b[0m n_samples \u001b[39m=\u001b[39m X\u001b[39m.\u001b[39mshape[\u001b[39m0\u001b[39m]\n\u001b[0;32m    321\u001b[0m \u001b[39m# Forward propagate\u001b[39;00m\n\u001b[1;32m--> 322\u001b[0m activations \u001b[39m=\u001b[39m \u001b[39mself\u001b[39;49m\u001b[39m.\u001b[39;49m_forward_pass(activations)\n\u001b[0;32m    324\u001b[0m \u001b[39m# Get loss\u001b[39;00m\n\u001b[0;32m    325\u001b[0m loss_func_name \u001b[39m=\u001b[39m \u001b[39mself\u001b[39m\u001b[39m.\u001b[39mloss\n",
      "File \u001b[1;32mc:\\Users\\acgr9\\miniconda3\\envs\\geomodel\\lib\\site-packages\\sklearn\\neural_network\\_multilayer_perceptron.py:174\u001b[0m, in \u001b[0;36mBaseMultilayerPerceptron._forward_pass\u001b[1;34m(self, activations)\u001b[0m\n\u001b[0;32m    172\u001b[0m     \u001b[39m# For the hidden layers\u001b[39;00m\n\u001b[0;32m    173\u001b[0m     \u001b[39mif\u001b[39;00m (i \u001b[39m+\u001b[39m \u001b[39m1\u001b[39m) \u001b[39m!=\u001b[39m (\u001b[39mself\u001b[39m\u001b[39m.\u001b[39mn_layers_ \u001b[39m-\u001b[39m \u001b[39m1\u001b[39m):\n\u001b[1;32m--> 174\u001b[0m         hidden_activation(activations[i \u001b[39m+\u001b[39;49m \u001b[39m1\u001b[39;49m])\n\u001b[0;32m    176\u001b[0m \u001b[39m# For the last layer\u001b[39;00m\n\u001b[0;32m    177\u001b[0m output_activation \u001b[39m=\u001b[39m ACTIVATIONS[\u001b[39mself\u001b[39m\u001b[39m.\u001b[39mout_activation_]\n",
      "File \u001b[1;32mc:\\Users\\acgr9\\miniconda3\\envs\\geomodel\\lib\\site-packages\\sklearn\\neural_network\\_base.py:44\u001b[0m, in \u001b[0;36minplace_tanh\u001b[1;34m(X)\u001b[0m\n\u001b[0;32m     36\u001b[0m \u001b[39mdef\u001b[39;00m \u001b[39minplace_tanh\u001b[39m(X):\n\u001b[0;32m     37\u001b[0m \u001b[39m    \u001b[39m\u001b[39m\"\"\"Compute the hyperbolic tan function inplace.\u001b[39;00m\n\u001b[0;32m     38\u001b[0m \n\u001b[0;32m     39\u001b[0m \u001b[39m    Parameters\u001b[39;00m\n\u001b[1;32m   (...)\u001b[0m\n\u001b[0;32m     42\u001b[0m \u001b[39m        The input data.\u001b[39;00m\n\u001b[0;32m     43\u001b[0m \u001b[39m    \"\"\"\u001b[39;00m\n\u001b[1;32m---> 44\u001b[0m     np\u001b[39m.\u001b[39;49mtanh(X, out\u001b[39m=\u001b[39;49mX)\n",
      "\u001b[1;31mKeyboardInterrupt\u001b[0m: "
     ]
    }
   ],
   "source": [
    "#run classifier\n",
    "X = litoScale\n",
    "Y = litoNp[:,3]\n",
    "clf = MLPClassifier(activation='tanh',solver='lbfgs',hidden_layer_sizes=(30,30,30), max_iter=10000)\n",
    "clf.fit(X,Y)"
   ]
  },
  {
   "cell_type": "code",
   "execution_count": null,
   "id": "115e4a8d",
   "metadata": {},
   "outputs": [],
   "source": [
    "numberSamples = litoNp.shape[0]\n",
    "expected=litoNp[:,3]\n",
    "predicted = []\n",
    "for i in range(numberSamples):\n",
    "    predicted.append(clf.predict([litoScale[i]]))\n",
    "results = confusion_matrix(expected,predicted)\n",
    "print(results)"
   ]
  },
  {
   "cell_type": "code",
   "execution_count": null,
   "id": "a6ed647d",
   "metadata": {},
   "outputs": [],
   "source": [
    "xmin = 487028\n",
    "xmax = 491162\n",
    "ymin = 5144168\n",
    "ymax = 5149592\n",
    "zmax = int(wellLito.Z_Top.max())\n",
    "zmin = zmax - 200"
   ]
  },
  {
   "cell_type": "code",
   "execution_count": null,
   "id": "4f1e7180",
   "metadata": {},
   "outputs": [],
   "source": [
    "#If index error occurs while constructing lithologic matrix (line 180), try reducing these values to increase grid resolution.\n",
    "#As mentioned above with regards to rounding, higher number of non-zero digits in coordinate values appears to coincide with greater required discretization to avoid index error.\n",
    "\n",
    "cellH = 20\n",
    "cellV = 10"
   ]
  },
  {
   "cell_type": "code",
   "execution_count": null,
   "id": "7ee6d5c1",
   "metadata": {},
   "outputs": [],
   "source": [
    "vertexCols = np.arange(xmin,xmax+1,cellH)\n",
    "vertexRows = np.arange(ymax,ymin-1,-cellH)\n",
    "vertexLays = np.arange(zmax,zmin-1,-cellV)\n",
    "cellCols = (vertexCols[1:]+vertexCols[:-1])/2\n",
    "cellRows = (vertexRows[1:]+vertexRows[:-1])/2 \n",
    "cellLays = (vertexLays[1:]+vertexLays[:-1])/2\n",
    "nCols = cellCols.shape[0]\n",
    "nRows = cellCols.shape[0]\n",
    "nLays = cellLays.shape[0]"
   ]
  },
  {
   "cell_type": "code",
   "execution_count": null,
   "id": "173a2b26",
   "metadata": {},
   "outputs": [],
   "source": [
    "i=0\n",
    "litoMatrix=np.zeros([nLays,nRows,nCols])\n",
    "for lay in range(nLays):\n",
    "    for row in range(nRows):\n",
    "        for col in range(nCols):\n",
    "            cellXYZ = [cellCols[col],cellRows[row],cellLays[lay]]\n",
    "            cellTrans = cellXYZ - litoMean\n",
    "            cellNorm = scaler.transform([cellTrans])\n",
    "            \n",
    "            litoMatrix[lay,row,col] = clf.predict(cellNorm)\n",
    "            \n",
    "            if i%30000==0:\n",
    "                print(\"Processing %s cells\"%i)\n",
    "                print(cellTrans)\n",
    "                print(cellNorm)\n",
    "                print(litoMatrix[lay,row,col])\n",
    "            i+=1"
   ]
  },
  {
   "cell_type": "code",
   "execution_count": null,
   "id": "97632777",
   "metadata": {},
   "outputs": [],
   "source": [
    "plt.imshow(litoMatrix[0])"
   ]
  },
  {
   "cell_type": "code",
   "execution_count": null,
   "id": "dbea8fc7",
   "metadata": {},
   "outputs": [],
   "source": [
    "plt.imshow(litoMatrix[:,20])"
   ]
  },
  {
   "cell_type": "code",
   "execution_count": null,
   "id": "b20fdabe",
   "metadata": {},
   "outputs": [],
   "source": [
    "np.save('litoMatrix',litoMatrix)"
   ]
  },
  {
   "cell_type": "code",
   "execution_count": null,
   "id": "68ffe97d",
   "metadata": {},
   "outputs": [],
   "source": [
    "#matrix modification for Vtk representation\n",
    "litoMatrixMod = litoMatrix[:,:,::-1]\n",
    "np.save('litoMatrixMod',litoMatrixMod)\n",
    "plt.imshow(litoMatrixMod[0])"
   ]
  },
  {
   "cell_type": "code",
   "execution_count": null,
   "id": "e38a3ae0",
   "metadata": {},
   "outputs": [],
   "source": [
    "# Create empty grid\n",
    "grid = pv.RectilinearGrid()"
   ]
  },
  {
   "cell_type": "code",
   "execution_count": null,
   "id": "26273575",
   "metadata": {},
   "outputs": [],
   "source": [
    "# Initialize from a vtk.vtkRectilinearGrid object\n",
    "vtkgrid = vtk.vtkRectilinearGrid()\n",
    "grid = pv.RectilinearGrid(vtkgrid)\n",
    "grid = pv.RectilinearGrid(vertexCols,vertexRows,vertexLays)"
   ]
  },
  {
   "cell_type": "code",
   "execution_count": null,
   "id": "4b35a25d",
   "metadata": {},
   "outputs": [],
   "source": [
    "litoFlat = list(litoMatrixMod.flatten(order=\"K\"))[::-1]\n",
    "grid.cell_arrays[\"hydrogeoCode\"] = np.array(litoFlat)\n",
    "grid.save('hydrogeologicalUnit.vtk')"
   ]
  }
 ],
 "metadata": {
  "kernelspec": {
   "display_name": "geomodel",
   "language": "python",
   "name": "python3"
  },
  "language_info": {
   "codemirror_mode": {
    "name": "ipython",
    "version": 3
   },
   "file_extension": ".py",
   "mimetype": "text/x-python",
   "name": "python",
   "nbconvert_exporter": "python",
   "pygments_lexer": "ipython3",
   "version": "3.9.16"
  },
  "vscode": {
   "interpreter": {
    "hash": "190652aa768d82b5f6655e3b7feba962bdb4420f6a8c855b97ab2c7b22f39a6f"
   }
  }
 },
 "nbformat": 4,
 "nbformat_minor": 5
}
